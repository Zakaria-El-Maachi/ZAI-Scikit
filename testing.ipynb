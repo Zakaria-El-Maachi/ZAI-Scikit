{
 "cells": [
  {
   "cell_type": "markdown",
   "metadata": {},
   "source": [
    "<h5 style=\"color:green\"> All Models' features need to be 2D Arrays even if there is one feature </h3>\n",
    "<ul>\n",
    "<li> No documnetation\n",
    "<li> Better OOP Design and Redundancy Omitting\n",
    "<li> To be implemented :\n",
    "    <ul>\n",
    "        <li> Gaussian Naive Bayes\n",
    "        <li> Logistic Regression\n",
    "        <li> Support Vector Machine\n",
    "        <li> Gradient Boosting\n",
    "        <li> DBSCAN and HDBSCAN\n",
    "        <li> K-Means\n",
    "        <li> PCA - UMAP\n",
    "        <li> Reinforcement Learning\n",
    "        <li> AlphaZero\n",
    "        <li> Factorization Methods\n",
    "        <li> Convolutional Neural Networks\n",
    "        <li> RNN + LSTM\n",
    "        <li> Transformers\n",
    "    </ul>\n",
    "<li> Needs Better Implementations :\n",
    "    <ul>\n",
    "        <li> Faster BallTree / KDTree Algorithms for KNN\n",
    "    </ul>\n",
    "</ul>"
   ]
  },
  {
   "cell_type": "code",
   "execution_count": null,
   "metadata": {},
   "outputs": [],
   "source": [
    "import numpy as np\n",
    "import pandas as pd\n",
    "\n",
    "from sklearn.tree import DecisionTreeClassifier\n",
    "from sklearn.ensemble import RandomForestClassifier\n",
    "from sklearn.naive_bayes import MultinomialNB\n",
    "from sklearn.linear_model import LinearRegression\n",
    "from sklearn.neighbors import KNeighborsClassifier\n",
    "\n",
    "import decision_tree\n",
    "import random_forest\n",
    "import linear_regression\n",
    "import naive_bayes\n",
    "import nearest_neighbors\n",
    "\n",
    "from sklearn.metrics import accuracy_score, mean_squared_error\n",
    "from sklearn.model_selection import train_test_split\n",
    "from sklearn import datasets\n",
    "import pickle\n",
    "\n",
    "import time\n",
    "import matplotlib.pyplot as plt"
   ]
  },
  {
   "cell_type": "code",
   "execution_count": null,
   "metadata": {},
   "outputs": [],
   "source": [
    "def load_dataset(filename):\n",
    "    with open(filename, \"rb\") as f:\n",
    "        return pickle.load(f)"
   ]
  },
  {
   "cell_type": "code",
   "execution_count": null,
   "metadata": {},
   "outputs": [],
   "source": [
    "def compareModels(models, X, y , metric):\n",
    "    for i, model in enumerate(models):\n",
    "        print(f\"Model {i}\")\n",
    "        start = time.perf_counter()\n",
    "        model.fit(X[0], y[0])\n",
    "        end = time.perf_counter()\n",
    "        print(f\"Time to fit : {end - start} s\")\n",
    "        print(f\"Performance : {metric(model.predict(X[1]), y[1])}\")\n"
   ]
  },
  {
   "cell_type": "code",
   "execution_count": null,
   "metadata": {},
   "outputs": [],
   "source": [
    "df = load_dataset(\"citiesSmall.pkl\")\n",
    "X = df['X']\n",
    "y = df['y']\n",
    "X_train, X_test, y_train, y_test = train_test_split(X, y, test_size=0.25, random_state=19)\n",
    "X_train.shape"
   ]
  },
  {
   "cell_type": "code",
   "execution_count": null,
   "metadata": {},
   "outputs": [],
   "source": [
    "depth = [i for i in range(1, 24)]\n",
    "accuracy = [[], []]\n",
    "execution_time = [[], []]\n",
    "\n",
    "for i in depth:\n",
    "    print(\"==========================================\")\n",
    "    models = []\n",
    "    models.append(DecisionTreeClassifier(criterion='gini', max_depth=i))\n",
    "    models.append(decision_tree.DecisionTreeClassifier(criterion='gini', max_depth=i))\n",
    "\n",
    "    compareModels(models, (X_train, X_test), (y_train, y_test), accuracy_score)\n",
    "    "
   ]
  },
  {
   "cell_type": "code",
   "execution_count": null,
   "metadata": {},
   "outputs": [],
   "source": [
    "X, y = datasets.make_classification(n_samples=1000, n_features=5, n_informative=3, n_redundant=2, n_classes=3, random_state=19)\n",
    "\n",
    "X_categorical = pd.DataFrame()\n",
    "for i in range(X.shape[1]):\n",
    "    categorical_feature = pd.cut(X[:, i], bins=5, labels=[j for j in range(5)])\n",
    "    X_categorical[f'feature_{i}'] = categorical_feature\n",
    "\n",
    "X = X_categorical.values\n",
    "\n",
    "X_train, X_test, y_train, y_test = train_test_split(X, y, test_size=0.25, random_state=19)\n",
    "\n",
    "depth = [i for i in range(1, 24)]\n",
    "accuracy = [[], []]\n",
    "execution_time = [[], []]\n",
    "\n",
    "for i in depth:\n",
    "    print(f\"Depth {i} ==========================================\")\n",
    "    models = []\n",
    "    models.append(RandomForestClassifier(criterion='gini', max_depth=i))\n",
    "    models.append(random_forest.RandomForestClassifier(criterion='gini', max_depth=i))\n",
    "\n",
    "    compareModels(models, (X_train, X_test), (y_train, y_test), accuracy_score)"
   ]
  },
  {
   "cell_type": "code",
   "execution_count": null,
   "metadata": {},
   "outputs": [],
   "source": [
    "X, y = datasets.make_regression(n_samples=10000, n_features=10, noise=1, bias=19, random_state=4)\n",
    "\n",
    "X_train, X_test, y_train, y_test = train_test_split(X, y, test_size=0.2, random_state=19)\n",
    "\n",
    "models = [LinearRegression(), linear_regression.LinearRegression()]\n",
    "compareModels(models, (X_train, X_test), (y_train, y_test), mean_squared_error)\n",
    "\n",
    "# fig = plt.figure(figsize=(10, 8))\n",
    "# plt.scatter(X, y, marker='o')\n",
    "# plt.plot(X, model.predict(X), marker = 'o')\n",
    "# plt.show()"
   ]
  },
  {
   "cell_type": "code",
   "execution_count": null,
   "metadata": {},
   "outputs": [],
   "source": [
    "X, y = datasets.make_classification(n_samples=18000, n_features=5, n_informative=5, n_redundant=0, n_classes=2, random_state=19)\n",
    "\n",
    "X_categorical = pd.DataFrame()\n",
    "for i in range(X.shape[1]):\n",
    "    categorical_feature = pd.cut(X[:, i], bins=5, labels=[j for j in range(5)])\n",
    "    X_categorical[f'feature_{i}'] = categorical_feature\n",
    "\n",
    "X = X_categorical.values\n",
    "\n",
    "X_train, X_test, y_train, y_test = train_test_split(X, y, test_size=0.25, random_state=19)\n",
    "\n",
    "models = [MultinomialNB(), naive_bayes.NaiveBayes()]\n",
    "compareModels(models, (X_train, X_test), (y_train, y_test), accuracy_score)"
   ]
  },
  {
   "cell_type": "code",
   "execution_count": null,
   "metadata": {},
   "outputs": [],
   "source": [
    "X, y = datasets.make_classification(n_samples=1000, n_features=5, n_informative=3, n_redundant=2, n_classes=3, random_state=19)\n",
    "X_train, X_test, y_train, y_test = train_test_split(X, y, test_size=0.25, random_state=19)\n",
    "\n",
    "for k in range(5, 101):\n",
    "    print(f\"\\n{k} neighbors ============================\\n\")\n",
    "    models = [KNeighborsClassifier(n_neighbors=k), nearest_neighbors.KNN(k)]\n",
    "    compareModels(models, (X_train, X_test), (y_train, y_test), accuracy_score)"
   ]
  },
  {
   "cell_type": "code",
   "execution_count": null,
   "metadata": {},
   "outputs": [],
   "source": [
    "from deep_learning import *\n",
    "from sklearn.preprocessing import StandardScaler\n",
    "\n",
    "iris = datasets.load_iris()\n",
    "X, y = iris.data, iris.target\n",
    "X_train, X_test, y_train, y_test = train_test_split(X, y, test_size=0.2, random_state=42)\n",
    "\n",
    "print(X.shape)\n",
    "\n",
    "scaler = StandardScaler()\n",
    "X_train = scaler.fit_transform(X_train)\n",
    "X_test = scaler.transform(X_test)\n",
    "\n",
    "mlp = Module()\n",
    "\n",
    "# Add layers to your MLP model\n",
    "mlp.add_layer(Layer(input_dim=X_train.shape[1], output_dim=64))  # Adjust the dimensions as needed\n",
    "mlp.add_layer(Sigmoid(64, 64))  # Add activation layers and adjust dimensions as needed\n",
    "mlp.add_layer(Layer(64, 1))\n",
    "\n",
    "# Fit the model to the training data\n",
    "mlp.fit(X_train, y_train)\n",
    "\n",
    "# Test the model on the testing data\n",
    "predictions = mlp.predict(X_test)\n",
    "accuracy = accuracy_score(y_test, predictions)\n",
    "print(f\"Accuracy: {accuracy}\")"
   ]
  },
  {
   "cell_type": "code",
   "execution_count": null,
   "metadata": {},
   "outputs": [],
   "source": []
  }
 ],
 "metadata": {
  "kernelspec": {
   "display_name": "MLearning",
   "language": "python",
   "name": "python3"
  },
  "language_info": {
   "codemirror_mode": {
    "name": "ipython",
    "version": 3
   },
   "file_extension": ".py",
   "mimetype": "text/x-python",
   "name": "python",
   "nbconvert_exporter": "python",
   "pygments_lexer": "ipython3",
   "version": "3.11.9"
  }
 },
 "nbformat": 4,
 "nbformat_minor": 2
}
