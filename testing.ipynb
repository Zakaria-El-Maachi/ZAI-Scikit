{
 "cells": [
  {
   "cell_type": "markdown",
   "metadata": {},
   "source": [
    "<h5 style=\"color:green\"> All Models' features need to be 2D Arrays even if there is one feature </h3>\n",
    "<ul>\n",
    "<li> No documnetation\n",
    "<li> Better OOP Design and Redundancy Omitting\n",
    "<li> To be implemented :\n",
    "    <ul>\n",
    "        <li> Gaussian Naive Bayes\n",
    "        <li> Logistic Regression\n",
    "        <li> Support Vector Machine\n",
    "        <li> Gradient Boosting\n",
    "        <li> DBSCAN and HDBSCAN\n",
    "        <li> K-Means\n",
    "        <li> PCA - UMAP\n",
    "        <li> Reinforcement Learning\n",
    "        <li> AlphaZero\n",
    "        <li> Factorization Methods\n",
    "        <li> Convolutional Neural Networks\n",
    "        <li> RNN + LSTM\n",
    "        <li> Transformers\n",
    "    </ul>\n",
    "<li> Needs Better Implementations :\n",
    "    <ul>\n",
    "        <li> Faster BallTree / KDTree Algorithms for KNN\n",
    "    </ul>\n",
    "</ul>"
   ]
  },
  {
   "cell_type": "code",
   "execution_count": 1,
   "metadata": {},
   "outputs": [],
   "source": [
    "import numpy as np\n",
    "import pandas as pd\n",
    "\n",
    "from sklearn.tree import DecisionTreeClassifier\n",
    "from sklearn.ensemble import RandomForestClassifier\n",
    "from sklearn.naive_bayes import MultinomialNB\n",
    "from sklearn.linear_model import LinearRegression\n",
    "from sklearn.neighbors import KNeighborsClassifier\n",
    "\n",
    "import decision_tree\n",
    "import random_forest\n",
    "import linear_regression\n",
    "import naive_bayes\n",
    "import nearest_neighbors\n",
    "\n",
    "from sklearn.metrics import accuracy_score, mean_squared_error\n",
    "from sklearn.model_selection import train_test_split\n",
    "from sklearn import datasets\n",
    "import pickle\n",
    "\n",
    "import time\n",
    "import matplotlib.pyplot as plt"
   ]
  },
  {
   "cell_type": "code",
   "execution_count": 2,
   "metadata": {},
   "outputs": [],
   "source": [
    "def load_dataset(filename):\n",
    "    with open(filename, \"rb\") as f:\n",
    "        return pickle.load(f)"
   ]
  },
  {
   "cell_type": "code",
   "execution_count": 3,
   "metadata": {},
   "outputs": [],
   "source": [
    "def compareModels(models, X, y , metric):\n",
    "    for i, model in enumerate(models):\n",
    "        print(f\"Model {i}\")\n",
    "        start = time.perf_counter()\n",
    "        model.fit(X[0], y[0])\n",
    "        end = time.perf_counter()\n",
    "        print(f\"Time to fit : {end - start} s\")\n",
    "        print(f\"Performance : {metric(model.predict(X[1]), y[1])}\")\n"
   ]
  },
  {
   "cell_type": "code",
   "execution_count": 4,
   "metadata": {},
   "outputs": [
    {
     "data": {
      "text/plain": [
       "(300, 2)"
      ]
     },
     "execution_count": 4,
     "metadata": {},
     "output_type": "execute_result"
    }
   ],
   "source": [
    "df = load_dataset(\"citiesSmall.pkl\")\n",
    "X = df['X']\n",
    "y = df['y']\n",
    "X_train, X_test, y_train, y_test = train_test_split(X, y, test_size=0.25, random_state=19)\n",
    "X_train.shape"
   ]
  },
  {
   "cell_type": "code",
   "execution_count": 5,
   "metadata": {},
   "outputs": [
    {
     "name": "stdout",
     "output_type": "stream",
     "text": [
      "==========================================\n",
      "Model 0\n",
      "Time to fit : 0.00178829999640584 s\n",
      "Performance : 0.67\n",
      "Model 1\n",
      "Time to fit : 0.038663299987092614 s\n",
      "Performance : 0.67\n",
      "==========================================\n",
      "Model 0\n",
      "Time to fit : 0.0006539000023622066 s\n",
      "Performance : 0.75\n",
      "Model 1\n",
      "Time to fit : 0.05067850000341423 s\n",
      "Performance : 0.75\n",
      "==========================================\n",
      "Model 0\n",
      "Time to fit : 0.0006664000102318823 s\n",
      "Performance : 0.8\n",
      "Model 1\n",
      "Time to fit : 0.06851959999767132 s\n",
      "Performance : 0.79\n",
      "==========================================\n",
      "Model 0\n",
      "Time to fit : 0.0007370999956037849 s\n",
      "Performance : 0.81\n",
      "Model 1\n",
      "Time to fit : 0.09217530000023544 s\n",
      "Performance : 0.8\n",
      "==========================================\n",
      "Model 0\n",
      "Time to fit : 0.0007800000021234155 s\n",
      "Performance : 0.84\n",
      "Model 1\n",
      "Time to fit : 0.09844999999040738 s\n",
      "Performance : 0.85\n",
      "==========================================\n",
      "Model 0\n",
      "Time to fit : 0.0008074000070337206 s\n",
      "Performance : 0.83\n",
      "Model 1\n",
      "Time to fit : 0.10471769998548552 s\n",
      "Performance : 0.82\n",
      "==========================================\n",
      "Model 0\n",
      "Time to fit : 0.0007814000127837062 s\n",
      "Performance : 0.85\n",
      "Model 1\n",
      "Time to fit : 0.11174260001280345 s\n",
      "Performance : 0.85\n",
      "==========================================\n",
      "Model 0\n",
      "Time to fit : 0.0007993000035639852 s\n",
      "Performance : 0.84\n",
      "Model 1\n",
      "Time to fit : 0.11728199999197386 s\n",
      "Performance : 0.85\n",
      "==========================================\n",
      "Model 0\n",
      "Time to fit : 0.0007881000055931509 s\n",
      "Performance : 0.85\n",
      "Model 1\n",
      "Time to fit : 0.11981460000970401 s\n",
      "Performance : 0.85\n",
      "==========================================\n",
      "Model 0\n",
      "Time to fit : 0.0007764000038150698 s\n",
      "Performance : 0.84\n",
      "Model 1\n",
      "Time to fit : 0.11531759999343194 s\n",
      "Performance : 0.85\n",
      "==========================================\n",
      "Model 0\n",
      "Time to fit : 0.0008702999912202358 s\n",
      "Performance : 0.84\n",
      "Model 1\n",
      "Time to fit : 0.11373509999248199 s\n",
      "Performance : 0.85\n",
      "==========================================\n",
      "Model 0\n",
      "Time to fit : 0.0007884000078774989 s\n",
      "Performance : 0.86\n",
      "Model 1\n",
      "Time to fit : 0.12028319999808446 s\n",
      "Performance : 0.85\n",
      "==========================================\n",
      "Model 0\n",
      "Time to fit : 0.0008926999871619046 s\n",
      "Performance : 0.84\n",
      "Model 1\n",
      "Time to fit : 0.1322869999858085 s\n",
      "Performance : 0.85\n",
      "==========================================\n",
      "Model 0\n",
      "Time to fit : 0.0008315000159200281 s\n",
      "Performance : 0.86\n",
      "Model 1\n",
      "Time to fit : 0.11672730001737364 s\n",
      "Performance : 0.85\n",
      "==========================================\n",
      "Model 0\n",
      "Time to fit : 0.0007994000043254346 s\n",
      "Performance : 0.85\n",
      "Model 1\n",
      "Time to fit : 0.131433400005335 s\n",
      "Performance : 0.85\n",
      "==========================================\n",
      "Model 0\n",
      "Time to fit : 0.000801000016508624 s\n",
      "Performance : 0.85\n",
      "Model 1\n",
      "Time to fit : 0.12841560001834296 s\n",
      "Performance : 0.85\n",
      "==========================================\n",
      "Model 0\n",
      "Time to fit : 0.0008025999995879829 s\n",
      "Performance : 0.86\n",
      "Model 1\n",
      "Time to fit : 0.13601780001772568 s\n",
      "Performance : 0.85\n",
      "==========================================\n",
      "Model 0\n",
      "Time to fit : 0.001365000003715977 s\n",
      "Performance : 0.86\n",
      "Model 1\n",
      "Time to fit : 0.18037449999246746 s\n",
      "Performance : 0.85\n",
      "==========================================\n",
      "Model 0\n",
      "Time to fit : 0.0011405999830458313 s\n",
      "Performance : 0.86\n",
      "Model 1\n",
      "Time to fit : 0.13925059998291545 s\n",
      "Performance : 0.85\n",
      "==========================================\n",
      "Model 0\n",
      "Time to fit : 0.0008088000176940113 s\n",
      "Performance : 0.85\n",
      "Model 1\n",
      "Time to fit : 0.10672289997455664 s\n",
      "Performance : 0.85\n",
      "==========================================\n",
      "Model 0\n",
      "Time to fit : 0.0008246999932453036 s\n",
      "Performance : 0.85\n",
      "Model 1\n",
      "Time to fit : 0.11089160002302378 s\n",
      "Performance : 0.85\n",
      "==========================================\n",
      "Model 0\n",
      "Time to fit : 0.0009067999781109393 s\n",
      "Performance : 0.85\n",
      "Model 1\n",
      "Time to fit : 0.1587586000096053 s\n",
      "Performance : 0.85\n",
      "==========================================\n",
      "Model 0\n",
      "Time to fit : 0.000802500027930364 s\n",
      "Performance : 0.84\n",
      "Model 1\n",
      "Time to fit : 0.11086709998198785 s\n",
      "Performance : 0.85\n"
     ]
    }
   ],
   "source": [
    "depth = [i for i in range(1, 24)]\n",
    "accuracy = [[], []]\n",
    "execution_time = [[], []]\n",
    "\n",
    "for i in depth:\n",
    "    print(\"==========================================\")\n",
    "    models = []\n",
    "    models.append(DecisionTreeClassifier(criterion='gini', max_depth=i))\n",
    "    models.append(decision_tree.DecisionTreeClassifier(criterion='gini', max_depth=i))\n",
    "\n",
    "    compareModels(models, (X_train, X_test), (y_train, y_test), accuracy_score)\n",
    "    "
   ]
  },
  {
   "cell_type": "code",
   "execution_count": 6,
   "metadata": {},
   "outputs": [
    {
     "name": "stdout",
     "output_type": "stream",
     "text": [
      "Model 0\n",
      "Time to fit : 0.11607519999961369 s\n",
      "Performance : 0.88\n",
      "Model 1\n",
      "Time to fit : 3.556402899994282 s\n",
      "Performance : 0.51\n"
     ]
    }
   ],
   "source": [
    "models = [RandomForestClassifier(max_depth=20), random_forest.RandomForestClassifier(max_depth=20), ]\n",
    "compareModels(models, (X_train, X_test), (y_train, y_test), accuracy_score)"
   ]
  },
  {
   "cell_type": "code",
   "execution_count": 9,
   "metadata": {},
   "outputs": [
    {
     "name": "stdout",
     "output_type": "stream",
     "text": [
      "Model 0\n",
      "Time to fit : 0.004353800002718344 s\n",
      "Performance : 1.0001200963464363\n",
      "Model 1\n",
      "Time to fit : 0.6487676999822725 s\n",
      "Performance : 5780.283023414392\n"
     ]
    }
   ],
   "source": [
    "X, y = datasets.make_regression(n_samples=10000, n_features=10, noise=1, bias=19, random_state=4)\n",
    "\n",
    "X_train, X_test, y_train, y_test = train_test_split(X, y, test_size=0.2, random_state=19)\n",
    "\n",
    "models = [LinearRegression(), linear_regression.LinearRegression()]\n",
    "compareModels(models, (X_train, X_test), (y_train, y_test), mean_squared_error)\n",
    "\n",
    "# fig = plt.figure(figsize=(10, 8))\n",
    "# plt.scatter(X, y, marker='o')\n",
    "# plt.plot(X, model.predict(X), marker = 'o')\n",
    "# plt.show()"
   ]
  },
  {
   "cell_type": "code",
   "execution_count": 5,
   "metadata": {},
   "outputs": [
    {
     "name": "stdout",
     "output_type": "stream",
     "text": [
      "Model 0\n",
      "Time to fit : 0.005711899982998148 s\n",
      "Performance : 0.7068888888888889\n",
      "Model 1\n",
      "Time to fit : 0.05556569999316707 s\n",
      "Performance : 0.7586666666666667\n"
     ]
    }
   ],
   "source": [
    "X, y = datasets.make_classification(n_samples=18000, n_features=5, n_informative=5, n_redundant=0, n_classes=2, random_state=19)\n",
    "\n",
    "X_categorical = pd.DataFrame()\n",
    "for i in range(X.shape[1]):\n",
    "    categorical_feature = pd.cut(X[:, i], bins=5, labels=[j for j in range(5)])\n",
    "    X_categorical[f'feature_{i}'] = categorical_feature\n",
    "\n",
    "X = X_categorical.values\n",
    "\n",
    "X_train, X_test, y_train, y_test = train_test_split(X, y, test_size=0.25, random_state=19)\n",
    "\n",
    "models = [MultinomialNB(), naive_bayes.NaiveBayes()]\n",
    "compareModels(models, (X_train, X_test), (y_train, y_test), accuracy_score)"
   ]
  },
  {
   "cell_type": "code",
   "execution_count": 6,
   "metadata": {},
   "outputs": [
    {
     "name": "stdout",
     "output_type": "stream",
     "text": [
      "Model 0\n",
      "Time to fit : 0.010806499980390072 s\n",
      "Performance : 0.7833333333333333\n",
      "Model 1\n",
      "Time to fit : 0.0002756999747361988 s\n"
     ]
    },
    {
     "ename": "TypeError",
     "evalue": "wrong number of positional arguments: expected 1, got 2",
     "output_type": "error",
     "traceback": [
      "\u001b[1;31m---------------------------------------------------------------------------\u001b[0m",
      "\u001b[1;31mTypeError\u001b[0m                                 Traceback (most recent call last)",
      "Cell \u001b[1;32mIn[6], line 3\u001b[0m\n\u001b[0;32m      1\u001b[0m \u001b[38;5;28;01mfor\u001b[39;00m k \u001b[38;5;129;01min\u001b[39;00m \u001b[38;5;28mrange\u001b[39m(\u001b[38;5;241m5\u001b[39m, \u001b[38;5;241m101\u001b[39m):\n\u001b[0;32m      2\u001b[0m     models \u001b[38;5;241m=\u001b[39m [KNeighborsClassifier(n_neighbors\u001b[38;5;241m=\u001b[39mk), nearest_neighbors\u001b[38;5;241m.\u001b[39mKNN(k)]\n\u001b[1;32m----> 3\u001b[0m     compareModels(models, (X_train, X_test), (y_train, y_test), accuracy_score)\n",
      "Cell \u001b[1;32mIn[3], line 8\u001b[0m, in \u001b[0;36mcompareModels\u001b[1;34m(models, X, y, metric)\u001b[0m\n\u001b[0;32m      6\u001b[0m end \u001b[38;5;241m=\u001b[39m time\u001b[38;5;241m.\u001b[39mperf_counter()\n\u001b[0;32m      7\u001b[0m \u001b[38;5;28mprint\u001b[39m(\u001b[38;5;124mf\u001b[39m\u001b[38;5;124m\"\u001b[39m\u001b[38;5;124mTime to fit : \u001b[39m\u001b[38;5;132;01m{\u001b[39;00mend\u001b[38;5;250m \u001b[39m\u001b[38;5;241m-\u001b[39m\u001b[38;5;250m \u001b[39mstart\u001b[38;5;132;01m}\u001b[39;00m\u001b[38;5;124m s\u001b[39m\u001b[38;5;124m\"\u001b[39m)\n\u001b[1;32m----> 8\u001b[0m \u001b[38;5;28mprint\u001b[39m(\u001b[38;5;124mf\u001b[39m\u001b[38;5;124m\"\u001b[39m\u001b[38;5;124mPerformance : \u001b[39m\u001b[38;5;132;01m{\u001b[39;00mmetric(model\u001b[38;5;241m.\u001b[39mpredict(X[\u001b[38;5;241m1\u001b[39m]),\u001b[38;5;250m \u001b[39my[\u001b[38;5;241m1\u001b[39m])\u001b[38;5;132;01m}\u001b[39;00m\u001b[38;5;124m\"\u001b[39m)\n",
      "File \u001b[1;32mc:\\Users\\Apo\\Desktop\\{} - Computer Science\\AI\\My Models\\sklearn_base.py:46\u001b[0m, in \u001b[0;36mClassifier.predict\u001b[1;34m(self, X)\u001b[0m\n\u001b[0;32m     45\u001b[0m \u001b[38;5;28;01mdef\u001b[39;00m \u001b[38;5;21mpredict\u001b[39m(\u001b[38;5;28mself\u001b[39m, X):\n\u001b[1;32m---> 46\u001b[0m     probaDistributions \u001b[38;5;241m=\u001b[39m \u001b[38;5;28mself\u001b[39m\u001b[38;5;241m.\u001b[39mpredictProba(X)\n\u001b[0;32m     47\u001b[0m     classesList \u001b[38;5;241m=\u001b[39m \u001b[38;5;28msorted\u001b[39m(\u001b[38;5;28mself\u001b[39m\u001b[38;5;241m.\u001b[39mclasses\u001b[38;5;241m.\u001b[39mkeys(), key \u001b[38;5;241m=\u001b[39m \u001b[38;5;28;01mlambda\u001b[39;00m x : \u001b[38;5;28mself\u001b[39m\u001b[38;5;241m.\u001b[39mclasses[x])\n\u001b[0;32m     48\u001b[0m     \u001b[38;5;28;01mreturn\u001b[39;00m np\u001b[38;5;241m.\u001b[39mvectorize(\u001b[38;5;28;01mlambda\u001b[39;00m x : classesList[np\u001b[38;5;241m.\u001b[39margmax(x)], signature\u001b[38;5;241m=\u001b[39m \u001b[38;5;124m'\u001b[39m\u001b[38;5;124m(n)->()\u001b[39m\u001b[38;5;124m'\u001b[39m)(probaDistributions)\n",
      "File \u001b[1;32mc:\\Users\\Apo\\Desktop\\{} - Computer Science\\AI\\My Models\\nearest_neighbors.py:22\u001b[0m, in \u001b[0;36mKNN.predictProba\u001b[1;34m(self, X)\u001b[0m\n\u001b[0;32m     21\u001b[0m \u001b[38;5;28;01mdef\u001b[39;00m \u001b[38;5;21mpredictProba\u001b[39m(\u001b[38;5;28mself\u001b[39m, X):\n\u001b[1;32m---> 22\u001b[0m     \u001b[38;5;28;01mreturn\u001b[39;00m np\u001b[38;5;241m.\u001b[39mvectorize(\u001b[38;5;28mself\u001b[39m\u001b[38;5;241m.\u001b[39mhelperProba, signature\u001b[38;5;241m=\u001b[39m\u001b[38;5;124m'\u001b[39m\u001b[38;5;124m(n)->(k)\u001b[39m\u001b[38;5;124m'\u001b[39m)(X)\n",
      "File \u001b[1;32mc:\\Users\\Apo\\anaconda3\\envs\\MLearning\\Lib\\site-packages\\numpy\\lib\\function_base.py:2329\u001b[0m, in \u001b[0;36mvectorize.__call__\u001b[1;34m(self, *args, **kwargs)\u001b[0m\n\u001b[0;32m   2326\u001b[0m     vargs \u001b[38;5;241m=\u001b[39m [args[_i] \u001b[38;5;28;01mfor\u001b[39;00m _i \u001b[38;5;129;01min\u001b[39;00m inds]\n\u001b[0;32m   2327\u001b[0m     vargs\u001b[38;5;241m.\u001b[39mextend([kwargs[_n] \u001b[38;5;28;01mfor\u001b[39;00m _n \u001b[38;5;129;01min\u001b[39;00m names])\n\u001b[1;32m-> 2329\u001b[0m \u001b[38;5;28;01mreturn\u001b[39;00m \u001b[38;5;28mself\u001b[39m\u001b[38;5;241m.\u001b[39m_vectorize_call(func\u001b[38;5;241m=\u001b[39mfunc, args\u001b[38;5;241m=\u001b[39mvargs)\n",
      "File \u001b[1;32mc:\\Users\\Apo\\anaconda3\\envs\\MLearning\\Lib\\site-packages\\numpy\\lib\\function_base.py:2403\u001b[0m, in \u001b[0;36mvectorize._vectorize_call\u001b[1;34m(self, func, args)\u001b[0m\n\u001b[0;32m   2401\u001b[0m \u001b[38;5;250m\u001b[39m\u001b[38;5;124;03m\"\"\"Vectorized call to `func` over positional `args`.\"\"\"\u001b[39;00m\n\u001b[0;32m   2402\u001b[0m \u001b[38;5;28;01mif\u001b[39;00m \u001b[38;5;28mself\u001b[39m\u001b[38;5;241m.\u001b[39msignature \u001b[38;5;129;01mis\u001b[39;00m \u001b[38;5;129;01mnot\u001b[39;00m \u001b[38;5;28;01mNone\u001b[39;00m:\n\u001b[1;32m-> 2403\u001b[0m     res \u001b[38;5;241m=\u001b[39m \u001b[38;5;28mself\u001b[39m\u001b[38;5;241m.\u001b[39m_vectorize_call_with_signature(func, args)\n\u001b[0;32m   2404\u001b[0m \u001b[38;5;28;01melif\u001b[39;00m \u001b[38;5;129;01mnot\u001b[39;00m args:\n\u001b[0;32m   2405\u001b[0m     res \u001b[38;5;241m=\u001b[39m func()\n",
      "File \u001b[1;32mc:\\Users\\Apo\\anaconda3\\envs\\MLearning\\Lib\\site-packages\\numpy\\lib\\function_base.py:2443\u001b[0m, in \u001b[0;36mvectorize._vectorize_call_with_signature\u001b[1;34m(self, func, args)\u001b[0m\n\u001b[0;32m   2440\u001b[0m nout \u001b[38;5;241m=\u001b[39m \u001b[38;5;28mlen\u001b[39m(output_core_dims)\n\u001b[0;32m   2442\u001b[0m \u001b[38;5;28;01mfor\u001b[39;00m index \u001b[38;5;129;01min\u001b[39;00m np\u001b[38;5;241m.\u001b[39mndindex(\u001b[38;5;241m*\u001b[39mbroadcast_shape):\n\u001b[1;32m-> 2443\u001b[0m     results \u001b[38;5;241m=\u001b[39m func(\u001b[38;5;241m*\u001b[39m(arg[index] \u001b[38;5;28;01mfor\u001b[39;00m arg \u001b[38;5;129;01min\u001b[39;00m args))\n\u001b[0;32m   2445\u001b[0m     n_results \u001b[38;5;241m=\u001b[39m \u001b[38;5;28mlen\u001b[39m(results) \u001b[38;5;28;01mif\u001b[39;00m \u001b[38;5;28misinstance\u001b[39m(results, \u001b[38;5;28mtuple\u001b[39m) \u001b[38;5;28;01melse\u001b[39;00m \u001b[38;5;241m1\u001b[39m\n\u001b[0;32m   2447\u001b[0m     \u001b[38;5;28;01mif\u001b[39;00m nout \u001b[38;5;241m!=\u001b[39m n_results:\n",
      "File \u001b[1;32mc:\\Users\\Apo\\Desktop\\{} - Computer Science\\AI\\My Models\\nearest_neighbors.py:25\u001b[0m, in \u001b[0;36mKNN.helperProba\u001b[1;34m(self, sample)\u001b[0m\n\u001b[0;32m     24\u001b[0m \u001b[38;5;28;01mdef\u001b[39;00m \u001b[38;5;21mhelperProba\u001b[39m(\u001b[38;5;28mself\u001b[39m, sample):\n\u001b[1;32m---> 25\u001b[0m     indices \u001b[38;5;241m=\u001b[39m np\u001b[38;5;241m.\u001b[39margsort(\u001b[38;5;28mself\u001b[39m\u001b[38;5;241m.\u001b[39mdistanceFuncs[\u001b[38;5;28mself\u001b[39m\u001b[38;5;241m.\u001b[39mdistance](\u001b[38;5;28mself\u001b[39m\u001b[38;5;241m.\u001b[39mX, sample))\n\u001b[0;32m     26\u001b[0m     \u001b[38;5;28;01mreturn\u001b[39;00m probabilityDistribution(\u001b[38;5;28mself\u001b[39m\u001b[38;5;241m.\u001b[39my[indices][:\u001b[38;5;28mself\u001b[39m\u001b[38;5;241m.\u001b[39mk], \u001b[38;5;28mself\u001b[39m\u001b[38;5;241m.\u001b[39mclasses)\n",
      "File \u001b[1;32mc:\\Users\\Apo\\anaconda3\\envs\\MLearning\\Lib\\site-packages\\numpy\\lib\\function_base.py:2329\u001b[0m, in \u001b[0;36mvectorize.__call__\u001b[1;34m(self, *args, **kwargs)\u001b[0m\n\u001b[0;32m   2326\u001b[0m     vargs \u001b[38;5;241m=\u001b[39m [args[_i] \u001b[38;5;28;01mfor\u001b[39;00m _i \u001b[38;5;129;01min\u001b[39;00m inds]\n\u001b[0;32m   2327\u001b[0m     vargs\u001b[38;5;241m.\u001b[39mextend([kwargs[_n] \u001b[38;5;28;01mfor\u001b[39;00m _n \u001b[38;5;129;01min\u001b[39;00m names])\n\u001b[1;32m-> 2329\u001b[0m \u001b[38;5;28;01mreturn\u001b[39;00m \u001b[38;5;28mself\u001b[39m\u001b[38;5;241m.\u001b[39m_vectorize_call(func\u001b[38;5;241m=\u001b[39mfunc, args\u001b[38;5;241m=\u001b[39mvargs)\n",
      "File \u001b[1;32mc:\\Users\\Apo\\anaconda3\\envs\\MLearning\\Lib\\site-packages\\numpy\\lib\\function_base.py:2403\u001b[0m, in \u001b[0;36mvectorize._vectorize_call\u001b[1;34m(self, func, args)\u001b[0m\n\u001b[0;32m   2401\u001b[0m \u001b[38;5;250m\u001b[39m\u001b[38;5;124;03m\"\"\"Vectorized call to `func` over positional `args`.\"\"\"\u001b[39;00m\n\u001b[0;32m   2402\u001b[0m \u001b[38;5;28;01mif\u001b[39;00m \u001b[38;5;28mself\u001b[39m\u001b[38;5;241m.\u001b[39msignature \u001b[38;5;129;01mis\u001b[39;00m \u001b[38;5;129;01mnot\u001b[39;00m \u001b[38;5;28;01mNone\u001b[39;00m:\n\u001b[1;32m-> 2403\u001b[0m     res \u001b[38;5;241m=\u001b[39m \u001b[38;5;28mself\u001b[39m\u001b[38;5;241m.\u001b[39m_vectorize_call_with_signature(func, args)\n\u001b[0;32m   2404\u001b[0m \u001b[38;5;28;01melif\u001b[39;00m \u001b[38;5;129;01mnot\u001b[39;00m args:\n\u001b[0;32m   2405\u001b[0m     res \u001b[38;5;241m=\u001b[39m func()\n",
      "File \u001b[1;32mc:\\Users\\Apo\\anaconda3\\envs\\MLearning\\Lib\\site-packages\\numpy\\lib\\function_base.py:2426\u001b[0m, in \u001b[0;36mvectorize._vectorize_call_with_signature\u001b[1;34m(self, func, args)\u001b[0m\n\u001b[0;32m   2423\u001b[0m input_core_dims, output_core_dims \u001b[38;5;241m=\u001b[39m \u001b[38;5;28mself\u001b[39m\u001b[38;5;241m.\u001b[39m_in_and_out_core_dims\n\u001b[0;32m   2425\u001b[0m \u001b[38;5;28;01mif\u001b[39;00m \u001b[38;5;28mlen\u001b[39m(args) \u001b[38;5;241m!=\u001b[39m \u001b[38;5;28mlen\u001b[39m(input_core_dims):\n\u001b[1;32m-> 2426\u001b[0m     \u001b[38;5;28;01mraise\u001b[39;00m \u001b[38;5;167;01mTypeError\u001b[39;00m(\u001b[38;5;124m'\u001b[39m\u001b[38;5;124mwrong number of positional arguments: \u001b[39m\u001b[38;5;124m'\u001b[39m\n\u001b[0;32m   2427\u001b[0m                     \u001b[38;5;124m'\u001b[39m\u001b[38;5;124mexpected \u001b[39m\u001b[38;5;132;01m%r\u001b[39;00m\u001b[38;5;124m, got \u001b[39m\u001b[38;5;132;01m%r\u001b[39;00m\u001b[38;5;124m'\u001b[39m\n\u001b[0;32m   2428\u001b[0m                     \u001b[38;5;241m%\u001b[39m (\u001b[38;5;28mlen\u001b[39m(input_core_dims), \u001b[38;5;28mlen\u001b[39m(args)))\n\u001b[0;32m   2429\u001b[0m args \u001b[38;5;241m=\u001b[39m \u001b[38;5;28mtuple\u001b[39m(asanyarray(arg) \u001b[38;5;28;01mfor\u001b[39;00m arg \u001b[38;5;129;01min\u001b[39;00m args)\n\u001b[0;32m   2431\u001b[0m broadcast_shape, dim_sizes \u001b[38;5;241m=\u001b[39m _parse_input_dimensions(\n\u001b[0;32m   2432\u001b[0m     args, input_core_dims)\n",
      "\u001b[1;31mTypeError\u001b[0m: wrong number of positional arguments: expected 1, got 2"
     ]
    }
   ],
   "source": [
    "X, y = datasets.make_classification(n_samples=1000, n_features=5, n_informative=3, n_redundant=2, n_classes=3, random_state=19)\n",
    "X_train, X_test, y_train, y_test = train_test_split(X, y, test_size=0.25, random_state=19)\n",
    "\n",
    "for k in range(5, 101):\n",
    "    print(f\"\\n{k} neighbors ============================\\n\")\n",
    "    models = [KNeighborsClassifier(n_neighbors=k), nearest_neighbors.KNN(k)]\n",
    "    compareModels(models, (X_train, X_test), (y_train, y_test), accuracy_score)"
   ]
  },
  {
   "cell_type": "code",
   "execution_count": null,
   "metadata": {},
   "outputs": [],
   "source": []
  }
 ],
 "metadata": {
  "kernelspec": {
   "display_name": "MLearning",
   "language": "python",
   "name": "python3"
  },
  "language_info": {
   "codemirror_mode": {
    "name": "ipython",
    "version": 3
   },
   "file_extension": ".py",
   "mimetype": "text/x-python",
   "name": "python",
   "nbconvert_exporter": "python",
   "pygments_lexer": "ipython3",
   "version": "3.11.5"
  }
 },
 "nbformat": 4,
 "nbformat_minor": 2
}
